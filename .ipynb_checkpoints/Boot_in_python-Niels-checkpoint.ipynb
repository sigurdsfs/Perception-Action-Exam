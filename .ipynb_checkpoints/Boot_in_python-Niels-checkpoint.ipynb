{
 "cells": [
  {
   "cell_type": "code",
   "execution_count": 16,
   "id": "480e3caf-a61e-43d1-a5c8-579bc64a9e70",
   "metadata": {},
   "outputs": [],
   "source": [
    "import numpy as np \n",
    "import pandas as pd\n",
    "import matplotlib.pyplot as plt\n",
    "from sklearn.decomposition import PCA\n",
    "from scipy.stats import kde\n",
    "from sklearn.metrics import roc_auc_score\n",
    "from sklearn.metrics import roc_curve, auc\n",
    "from sklearn.model_selection import cross_val_predict, KFold\n",
    "from sklearn.model_selection import train_test_split\n",
    "from sklearn.discriminant_analysis import LinearDiscriminantAnalysis\n",
    "from sklearn.utils import resample\n"
   ]
  },
  {
   "cell_type": "code",
   "execution_count": 21,
   "id": "c0aac5e2-28a8-4e32-979a-057d52fd2584",
   "metadata": {},
   "outputs": [],
   "source": [
    "negation_data_true = pd.read_csv(\"R 2 niels/negation_true.csv\")"
   ]
  },
  {
   "cell_type": "code",
   "execution_count": 22,
   "id": "4521db5a-fefd-43cf-9dc1-025ed25128eb",
   "metadata": {},
   "outputs": [
    {
     "data": {
      "text/plain": [
       "Index(['lda_measure_coords.x', 'Subject', 'Item.number', 'Polarity',\n",
       "       'Response', 'lda_measure', 'lda_measure_coords.y', 'lda_measure.x.x',\n",
       "       'lda_measure.y', 'lda_measure.x', 'lda_measure.y.y', 'X',\n",
       "       'Sentence_Type', 'Adjective', 'Sentence', 'Expected_response',\n",
       "       'Accuracy', 'RT', 'Normalized.positions.X', 'Normalized.positions.Y',\n",
       "       'Velocity', 'Acceleration', 'Acceleration_Smooth',\n",
       "       'Acceleration_Smooth.Time', 'RawTime', 'LogRatio', 'MaxDeviation',\n",
       "       'MaxDeviation.Time', 'MaxDeviation.Time.Norm', 'MaxDeviationBorder',\n",
       "       'MaxDeviationBorder.Time', 'MaxDeviationBorder.Time.Norm',\n",
       "       'Median.LogRatio', 'MaxRatio', 'MaxLogRatio', 'MaxRatio.Time',\n",
       "       'MaxRatio.Time.Norm', 'AccPeak', 'AccPeak.Time', 'AccPeak.Time.Norm',\n",
       "       'Local.Maxima.Acc', 'Len.Local.Maxima.Acc', 'X.flips', 'Acc.flips',\n",
       "       'AUC', 'Delay'],\n",
       "      dtype='object')"
      ]
     },
     "execution_count": 22,
     "metadata": {},
     "output_type": "execute_result"
    }
   ],
   "source": [
    "negation_data_true.columns"
   ]
  },
  {
   "cell_type": "code",
   "execution_count": 35,
   "id": "8dbbb7b0-7c7b-444a-9161-28004d02b4b2",
   "metadata": {},
   "outputs": [
    {
     "ename": "ValueError",
     "evalue": "continuous format is not supported",
     "output_type": "error",
     "traceback": [
      "\u001b[0;31m---------------------------------------------------------------------------\u001b[0m",
      "\u001b[0;31mValueError\u001b[0m                                Traceback (most recent call last)",
      "\u001b[0;32m/var/folders/6f/9pc_m95n353d8tm2r00krnb80000gn/T/ipykernel_9814/823283215.py\u001b[0m in \u001b[0;36m<module>\u001b[0;34m\u001b[0m\n\u001b[1;32m     13\u001b[0m \u001b[0;32mfor\u001b[0m \u001b[0mi\u001b[0m \u001b[0;32min\u001b[0m \u001b[0mrange\u001b[0m\u001b[0;34m(\u001b[0m\u001b[0;36m1000\u001b[0m\u001b[0;34m)\u001b[0m\u001b[0;34m:\u001b[0m\u001b[0;34m\u001b[0m\u001b[0;34m\u001b[0m\u001b[0m\n\u001b[1;32m     14\u001b[0m     \u001b[0mdata\u001b[0m \u001b[0;34m=\u001b[0m \u001b[0mresample\u001b[0m\u001b[0;34m(\u001b[0m\u001b[0mnegation_data_true\u001b[0m\u001b[0;34m)\u001b[0m\u001b[0;34m\u001b[0m\u001b[0;34m\u001b[0m\u001b[0m\n\u001b[0;32m---> 15\u001b[0;31m     \u001b[0mauc\u001b[0m \u001b[0;34m=\u001b[0m \u001b[0mauc_roc\u001b[0m\u001b[0;34m(\u001b[0m\u001b[0mdata\u001b[0m\u001b[0;34m,\u001b[0m \u001b[0;34m'lda_measure'\u001b[0m\u001b[0;34m,\u001b[0m \u001b[0;34m'Polarity'\u001b[0m\u001b[0;34m,\u001b[0m \u001b[0;34m'P'\u001b[0m\u001b[0;34m,\u001b[0m \u001b[0;34m'N'\u001b[0m\u001b[0;34m,\u001b[0m \u001b[0;32mFalse\u001b[0m\u001b[0;34m)\u001b[0m\u001b[0;34m\u001b[0m\u001b[0;34m\u001b[0m\u001b[0m\n\u001b[0m\u001b[1;32m     16\u001b[0m     \u001b[0mauc_list\u001b[0m\u001b[0;34m.\u001b[0m\u001b[0mappend\u001b[0m\u001b[0;34m(\u001b[0m\u001b[0;34m)\u001b[0m\u001b[0;34m\u001b[0m\u001b[0;34m\u001b[0m\u001b[0m\n\u001b[1;32m     17\u001b[0m \u001b[0;34m\u001b[0m\u001b[0m\n",
      "\u001b[0;32m/var/folders/6f/9pc_m95n353d8tm2r00krnb80000gn/T/ipykernel_9814/823283215.py\u001b[0m in \u001b[0;36mauc_roc\u001b[0;34m(data, score, label, label1, label2, n)\u001b[0m\n\u001b[1;32m      7\u001b[0m     \u001b[0my_pred\u001b[0m \u001b[0;34m=\u001b[0m \u001b[0mscore_data_1\u001b[0m\u001b[0;34m[\u001b[0m\u001b[0mdata\u001b[0m\u001b[0;34m[\u001b[0m\u001b[0mlabel\u001b[0m\u001b[0;34m]\u001b[0m \u001b[0;34m==\u001b[0m \u001b[0mlabel1\u001b[0m\u001b[0;34m]\u001b[0m\u001b[0;34m.\u001b[0m\u001b[0mvalues\u001b[0m\u001b[0;34m\u001b[0m\u001b[0;34m\u001b[0m\u001b[0m\n\u001b[1;32m      8\u001b[0m     \u001b[0my_test\u001b[0m \u001b[0;34m=\u001b[0m \u001b[0mscore_data_1\u001b[0m\u001b[0;34m[\u001b[0m\u001b[0mdata\u001b[0m\u001b[0;34m[\u001b[0m\u001b[0mlabel\u001b[0m\u001b[0;34m]\u001b[0m \u001b[0;34m==\u001b[0m \u001b[0mlabel2\u001b[0m\u001b[0;34m]\u001b[0m\u001b[0;34m.\u001b[0m\u001b[0mvalues\u001b[0m\u001b[0;34m\u001b[0m\u001b[0;34m\u001b[0m\u001b[0m\n\u001b[0;32m----> 9\u001b[0;31m     \u001b[0;32mreturn\u001b[0m \u001b[0mroc_auc_score\u001b[0m\u001b[0;34m(\u001b[0m\u001b[0my_test\u001b[0m\u001b[0;34m,\u001b[0m \u001b[0my_pred\u001b[0m\u001b[0;34m)\u001b[0m\u001b[0;34m\u001b[0m\u001b[0;34m\u001b[0m\u001b[0m\n\u001b[0m\u001b[1;32m     10\u001b[0m \u001b[0;34m\u001b[0m\u001b[0m\n\u001b[1;32m     11\u001b[0m \u001b[0mauc_list\u001b[0m \u001b[0;34m=\u001b[0m \u001b[0;34m[\u001b[0m\u001b[0;34m]\u001b[0m\u001b[0;34m\u001b[0m\u001b[0;34m\u001b[0m\u001b[0m\n",
      "\u001b[0;32m~/opt/miniconda3/envs/spyder-env/lib/python3.9/site-packages/sklearn/metrics/_ranking.py\u001b[0m in \u001b[0;36mroc_auc_score\u001b[0;34m(y_true, y_score, average, sample_weight, max_fpr, multi_class, labels)\u001b[0m\n\u001b[1;32m    573\u001b[0m         )\n\u001b[1;32m    574\u001b[0m     \u001b[0;32melse\u001b[0m\u001b[0;34m:\u001b[0m  \u001b[0;31m# multilabel-indicator\u001b[0m\u001b[0;34m\u001b[0m\u001b[0;34m\u001b[0m\u001b[0m\n\u001b[0;32m--> 575\u001b[0;31m         return _average_binary_score(\n\u001b[0m\u001b[1;32m    576\u001b[0m             \u001b[0mpartial\u001b[0m\u001b[0;34m(\u001b[0m\u001b[0m_binary_roc_auc_score\u001b[0m\u001b[0;34m,\u001b[0m \u001b[0mmax_fpr\u001b[0m\u001b[0;34m=\u001b[0m\u001b[0mmax_fpr\u001b[0m\u001b[0;34m)\u001b[0m\u001b[0;34m,\u001b[0m\u001b[0;34m\u001b[0m\u001b[0;34m\u001b[0m\u001b[0m\n\u001b[1;32m    577\u001b[0m             \u001b[0my_true\u001b[0m\u001b[0;34m,\u001b[0m\u001b[0;34m\u001b[0m\u001b[0;34m\u001b[0m\u001b[0m\n",
      "\u001b[0;32m~/opt/miniconda3/envs/spyder-env/lib/python3.9/site-packages/sklearn/metrics/_base.py\u001b[0m in \u001b[0;36m_average_binary_score\u001b[0;34m(binary_metric, y_true, y_score, average, sample_weight)\u001b[0m\n\u001b[1;32m     70\u001b[0m     \u001b[0my_type\u001b[0m \u001b[0;34m=\u001b[0m \u001b[0mtype_of_target\u001b[0m\u001b[0;34m(\u001b[0m\u001b[0my_true\u001b[0m\u001b[0;34m)\u001b[0m\u001b[0;34m\u001b[0m\u001b[0;34m\u001b[0m\u001b[0m\n\u001b[1;32m     71\u001b[0m     \u001b[0;32mif\u001b[0m \u001b[0my_type\u001b[0m \u001b[0;32mnot\u001b[0m \u001b[0;32min\u001b[0m \u001b[0;34m(\u001b[0m\u001b[0;34m\"binary\"\u001b[0m\u001b[0;34m,\u001b[0m \u001b[0;34m\"multilabel-indicator\"\u001b[0m\u001b[0;34m)\u001b[0m\u001b[0;34m:\u001b[0m\u001b[0;34m\u001b[0m\u001b[0;34m\u001b[0m\u001b[0m\n\u001b[0;32m---> 72\u001b[0;31m         \u001b[0;32mraise\u001b[0m \u001b[0mValueError\u001b[0m\u001b[0;34m(\u001b[0m\u001b[0;34m\"{0} format is not supported\"\u001b[0m\u001b[0;34m.\u001b[0m\u001b[0mformat\u001b[0m\u001b[0;34m(\u001b[0m\u001b[0my_type\u001b[0m\u001b[0;34m)\u001b[0m\u001b[0;34m)\u001b[0m\u001b[0;34m\u001b[0m\u001b[0;34m\u001b[0m\u001b[0m\n\u001b[0m\u001b[1;32m     73\u001b[0m \u001b[0;34m\u001b[0m\u001b[0m\n\u001b[1;32m     74\u001b[0m     \u001b[0;32mif\u001b[0m \u001b[0my_type\u001b[0m \u001b[0;34m==\u001b[0m \u001b[0;34m\"binary\"\u001b[0m\u001b[0;34m:\u001b[0m\u001b[0;34m\u001b[0m\u001b[0;34m\u001b[0m\u001b[0m\n",
      "\u001b[0;31mValueError\u001b[0m: continuous format is not supported"
     ]
    }
   ],
   "source": [
    "def auc_roc(data, score, label, label1, label2, n):\n",
    "    if n!= False:\n",
    "        data_1 = data[data['Subject'] == resample(data, n_samples = n)['Subject']]\n",
    "    else:\n",
    "        data_1 = data\n",
    "    score_data_1 = data[score]\n",
    "    y_pred = score_data_1[data[label] == label1]\n",
    "    y_test = score_data_1[data[label] == label2]\n",
    "    return roc_auc_score(y_test, y_pred)\n",
    "    \n",
    "auc_list = []\n",
    "\n",
    "for i in range(1000):\n",
    "    data = resample(negation_data_true)\n",
    "    auc = auc_roc(data, 'lda_measure', 'Polarity', 'P', 'N', False)\n",
    "    auc_list.append()\n",
    "\n",
    "auc_list"
   ]
  },
  {
   "cell_type": "code",
   "execution_count": null,
   "id": "e16c4069-f2bf-404e-8fcd-3fd7a79579f6",
   "metadata": {},
   "outputs": [],
   "source": [
    "if n!= False:\n",
    "    data_1 = data[data['Subject'] == resample(data, n_samples = n)['Subject']]\n",
    "else:\n",
    "    data_1 = data\n",
    "score_data_1 = data[score]\n",
    "y_pred = score_data_1[data[label] == label1]\n",
    "y_test = score_data_1[data[label] == label2]\n",
    "roc_auc_score(y_test, y_pred)"
   ]
  },
  {
   "cell_type": "code",
   "execution_count": null,
   "id": "e59a4d81-bb0e-4c09-9592-e1fb790160ea",
   "metadata": {},
   "outputs": [],
   "source": []
  },
  {
   "cell_type": "code",
   "execution_count": null,
   "id": "b242282f-e4f1-4602-99e7-2d5daf2cb9cd",
   "metadata": {},
   "outputs": [],
   "source": []
  },
  {
   "cell_type": "code",
   "execution_count": null,
   "id": "81ec514c-f5a0-4e73-a2d6-29ecb9a12e6e",
   "metadata": {},
   "outputs": [],
   "source": []
  },
  {
   "cell_type": "code",
   "execution_count": null,
   "id": "ed12dd91-1902-4efe-85c7-4efd01bbc872",
   "metadata": {},
   "outputs": [],
   "source": []
  },
  {
   "cell_type": "code",
   "execution_count": null,
   "id": "c4beddff-38e4-4c34-994d-b39360ba8dc7",
   "metadata": {},
   "outputs": [],
   "source": [
    "  results_lda <- boot(data=negation_data_true, statistic=auc_roc, R=1000, score='lda_measure', label= 'Polarity', n=ns[i])\n",
    "  results_lda.random <- boot(data=negation_data_true, statistic=auc_roc, R=1000, score='lda_measure', label= 'Random', n=ns[i])\n",
    "  data <- rbind(data.frame(value=results_lda$t, variable='original'), data.frame(value=results_lda.random$t, variable='null'))  \n",
    "  roc.te <- roc(data$variable, data$value)\n",
    "  permutation_lda[i]<- roc.te$auc \n",
    "  auc_lda[i]<- results_lda$t  \n",
    "\n",
    "\n",
    "auc_roc <- function(data, indices, score, label, n){\n",
    "  n_data <- if(n!=FALSE) subset(data, Subject %in% sample(data$Subject, n)) else data \n",
    "  data <- n_data[indices,]\n",
    "  score.te <- unlist(data[,score])  #Measureen\n",
    "  label.te <- unlist(data[,label]) #Polarity\n",
    "  roc.te <- roc(label.te, score.te)\n",
    "  return(roc.te$auc)\n",
    "}\n"
   ]
  }
 ],
 "metadata": {
  "kernelspec": {
   "display_name": "Python 3 (ipykernel)",
   "language": "python",
   "name": "python3"
  },
  "language_info": {
   "codemirror_mode": {
    "name": "ipython",
    "version": 3
   },
   "file_extension": ".py",
   "mimetype": "text/x-python",
   "name": "python",
   "nbconvert_exporter": "python",
   "pygments_lexer": "ipython3",
   "version": "3.9.7"
  }
 },
 "nbformat": 4,
 "nbformat_minor": 5
}
